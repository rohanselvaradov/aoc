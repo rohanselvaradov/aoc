{
 "cells": [
  {
   "cell_type": "markdown",
   "metadata": {},
   "source": [
    "## Part 1"
   ]
  },
  {
   "cell_type": "code",
   "execution_count": 10,
   "metadata": {},
   "outputs": [],
   "source": [
    "def use_map(ranges: list[list[int]], source: int):\n",
    "    for dest_start, source_start, length in ranges:\n",
    "         if source_start <= source < source_start + length:\n",
    "              return dest_start + (source - source_start)\n",
    "    return source"
   ]
  },
  {
   "cell_type": "code",
   "execution_count": 11,
   "metadata": {},
   "outputs": [],
   "source": [
    "def parse_map(text: str):\n",
    "    return [[int(x) for x in s.split()] for s in text.split('\\n')[1:]]"
   ]
  },
  {
   "cell_type": "code",
   "execution_count": 12,
   "metadata": {},
   "outputs": [],
   "source": [
    "def parse_almanac(almanac: str):\n",
    "    sections = almanac.split('\\n\\n')\n",
    "    seeds = [int(x) for x in sections[0].split(':')[1].split()]\n",
    "    ranges = [parse_map(t) for t in sections[1:]]\n",
    "    return seeds, ranges"
   ]
  },
  {
   "cell_type": "code",
   "execution_count": 23,
   "metadata": {},
   "outputs": [],
   "source": [
    "with open('input.txt') as f:\n",
    "    almanac = f.read()"
   ]
  },
  {
   "cell_type": "code",
   "execution_count": 24,
   "metadata": {},
   "outputs": [],
   "source": [
    "seeds, all_ranges = parse_almanac(almanac)\n"
   ]
  },
  {
   "cell_type": "code",
   "execution_count": 25,
   "metadata": {},
   "outputs": [
    {
     "name": "stdout",
     "output_type": "stream",
     "text": [
      "278755257\n"
     ]
    }
   ],
   "source": [
    "locations = []\n",
    "for seed in seeds:\n",
    "    source = seed\n",
    "    for ranges in all_ranges:\n",
    "        dest = use_map(ranges, source)\n",
    "        source = dest\n",
    "    locations.append(dest)\n",
    "print(min(locations))"
   ]
  },
  {
   "cell_type": "markdown",
   "metadata": {},
   "source": [
    "## Part 2"
   ]
  },
  {
   "cell_type": "code",
   "execution_count": null,
   "metadata": {},
   "outputs": [],
   "source": [
    "import re\n",
    "def parse_almanac_2(almanac: str):\n",
    "    sections = almanac.split('\\n\\n')\n",
    "    pattern = re.compile(r'\\d+ \\d+')\n",
    "    pairs = [(int(x), int(y)) for (x, y) in [pair.split() for pair in re.findall(pattern, sections[0])]]\n",
    "    seeds = [p[0]]\n",
    "    ranges = [parse_map(t) for t in sections[1:]]\n",
    "    return seeds, ranges"
   ]
  },
  {
   "cell_type": "code",
   "execution_count": 46,
   "metadata": {},
   "outputs": [
    {
     "data": {
      "text/plain": [
       "[(3489262449, 222250568),\n",
       " (2315397239, 327729713),\n",
       " (1284963, 12560465),\n",
       " (1219676803, 10003052),\n",
       " (291763704, 177898461),\n",
       " (136674754, 107182783),\n",
       " (2917625223, 260345082),\n",
       " (1554280164, 216251358),\n",
       " (3900312676, 5629667),\n",
       " (494259693, 397354410)]"
      ]
     },
     "execution_count": 46,
     "metadata": {},
     "output_type": "execute_result"
    }
   ],
   "source": [
    "import re\n",
    "pattern = re.compile(r'\\d+ \\d+')\n",
    "s = 'seeds: 3489262449 222250568 2315397239 327729713 1284963 12560465 1219676803 10003052 291763704 177898461 136674754 107182783 2917625223 260345082 1554280164 216251358 3900312676 5629667 494259693 397354410'\n",
    "pairs = [(int(x), int(y)) for (x, y) in [pair.split() for pair in re.findall(pattern, s)]]\n",
    "pairs"
   ]
  },
  {
   "cell_type": "code",
   "execution_count": null,
   "metadata": {},
   "outputs": [],
   "source": [
    "[p[0] + i for p in pairs for i in range(p[1])]\n"
   ]
  },
  {
   "cell_type": "markdown",
   "metadata": {},
   "source": [
    "You should reverse it. Convert a location into a seed. And when a location matches an existing seed, you've got the lowest possible location as your iterator.\n",
    "\n",
    "Also: instead of making a list with all seeds, make a function that uses comparison operators to check if a seed is in the list"
   ]
  },
  {
   "cell_type": "markdown",
   "metadata": {},
   "source": [
    "Taking the first seeds as lists with the first and the last seed of the range. Obviously these ranges will have to be eventually divided into more ranges. And at the end your solution will be the smallest number in the final ranges"
   ]
  },
  {
   "cell_type": "markdown",
   "metadata": {},
   "source": [
    "- https://mathematico.netlify.app/blog/aoc-23-5\n",
    "- https://github.com/PetchyAL/AoC2023/blob/main/solutions/day05/day5.py \n",
    "- https://github.com/xHyroM/aoc/tree/main/2023/05 \n",
    "- https://github.com/RomainPierre7/Advent-of-Code/tree/main/2023/day05 "
   ]
  }
 ],
 "metadata": {
  "kernelspec": {
   "display_name": "venv",
   "language": "python",
   "name": "python3"
  },
  "language_info": {
   "codemirror_mode": {
    "name": "ipython",
    "version": 3
   },
   "file_extension": ".py",
   "mimetype": "text/x-python",
   "name": "python",
   "nbconvert_exporter": "python",
   "pygments_lexer": "ipython3",
   "version": "3.10.12"
  }
 },
 "nbformat": 4,
 "nbformat_minor": 2
}
