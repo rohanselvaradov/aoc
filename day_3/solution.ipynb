{
 "cells": [
  {
   "cell_type": "markdown",
   "metadata": {},
   "source": [
    "## Part 1"
   ]
  },
  {
   "cell_type": "code",
   "execution_count": 51,
   "metadata": {},
   "outputs": [],
   "source": [
    "with open('input.txt', 'r') as f:\n",
    "    lines = f.readlines()"
   ]
  },
  {
   "cell_type": "code",
   "execution_count": 52,
   "metadata": {},
   "outputs": [],
   "source": [
    "import re\n",
    "num_pattern = re.compile(r'\\d+(?=\\D)')\n",
    "sym_pattern = re.compile(r'[^\\w.\\n]')"
   ]
  },
  {
   "cell_type": "code",
   "execution_count": 53,
   "metadata": {},
   "outputs": [],
   "source": [
    "schematic = {}\n",
    "for i, line in enumerate(lines):\n",
    "    schematic[i] = list(re.finditer(num_pattern, line))"
   ]
  },
  {
   "cell_type": "code",
   "execution_count": 54,
   "metadata": {},
   "outputs": [],
   "source": [
    "def is_sym(x):\n",
    "    return bool(re.search(sym_pattern, x))"
   ]
  },
  {
   "cell_type": "code",
   "execution_count": 61,
   "metadata": {},
   "outputs": [
    {
     "name": "stdout",
     "output_type": "stream",
     "text": [
      "533775\n"
     ]
    }
   ],
   "source": [
    "def process_line(k, lines, num_match):\n",
    "    span = num_match.span()\n",
    "    for i in range(span[0] - 1, span[1] + 1):\n",
    "        if is_sym(lines[k][i]):\n",
    "            return int(num_match.group())\n",
    "\n",
    "include = []\n",
    "for row, num_matches in schematic.items():\n",
    "    for offset in [-1, 0, 1]:\n",
    "        if 0 <= row + offset < len(schematic):\n",
    "            for num_match in num_matches:\n",
    "                include.append(process_line(row + offset, lines, num_match))\n",
    "\n",
    "print(sum(x for x in include if x))"
   ]
  },
  {
   "cell_type": "markdown",
   "metadata": {},
   "source": [
    "## Part 2"
   ]
  },
  {
   "cell_type": "code",
   "execution_count": 62,
   "metadata": {},
   "outputs": [],
   "source": [
    "with open('sample.txt', 'r') as f:\n",
    "    lines = f.readlines()"
   ]
  },
  {
   "cell_type": "code",
   "execution_count": 72,
   "metadata": {},
   "outputs": [],
   "source": [
    "stars = {}\n",
    "star_pattern = re.compile(r'\\*')\n",
    "for i, line in enumerate(lines):\n",
    "    stars[i] = list(re.finditer(star_pattern, line))"
   ]
  }
 ],
 "metadata": {
  "kernelspec": {
   "display_name": "venv",
   "language": "python",
   "name": "python3"
  },
  "language_info": {
   "codemirror_mode": {
    "name": "ipython",
    "version": 3
   },
   "file_extension": ".py",
   "mimetype": "text/x-python",
   "name": "python",
   "nbconvert_exporter": "python",
   "pygments_lexer": "ipython3",
   "version": "3.10.12"
  }
 },
 "nbformat": 4,
 "nbformat_minor": 2
}
